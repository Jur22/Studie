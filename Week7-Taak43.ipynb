{
 "cells": [
  {
   "cell_type": "markdown",
   "metadata": {
    "slideshow": {
     "slide_type": "slide"
    }
   },
   "source": [
    "# Final assignment Data Science\n",
    "\n",
    "## Notebook made by  \n",
    "\n",
    "|** Name** | **Student id** | **email**|\n",
    "|:- |:-|:-|\n",
    "|Niels van Gorsel | 10658785 | niels.v.gorsel@gmail.com |\n",
    "| Jeffrey Groefsema | 10595716 | jefgro@hotmail.com |\n",
    "\n",
    "### Pledge (taken from [Coursera's Honor Code](https://www.coursera.org/about/terms/honorcode) )\n",
    "\n",
    "\n",
    "\n",
    "Put here a selfie with your photo where you hold a signed paper with the following text: (if this is team work, put two selfies here). The link must be to some place on the web, not to a local file. \n",
    "\n",
    "> My answers to homework, quizzes and exams will be my own work (except for assignments that explicitly permit collaboration).\n",
    "\n",
    ">I will not make solutions to homework, quizzes or exams available to anyone else. This includes both solutions written by me, as well as any official solutions provided by the course staff.\n",
    "\n",
    ">I will not engage in any other activities that will dishonestly improve my results or dishonestly improve/hurt the results of others.\n",
    "\n",
    "<img src='http://s4.postimg.org/wzsven2pp/image.jpg' style=\"max-width:100%; width: 50%\">\n",
    "\n",
    "<https://drive.google.com/file/d/0B_-9BNn5aQYNUnBBbG1RRFU1Yms/view?usp=sharing'/>\n",
    "> The selfie is in Google Drive as I do not currently have a own webspace and I'm not posting it somewere I don't have controll.\n",
    "\n",
    "### Note\n",
    "* **Assignments without the selfies or completely filled in information will not be graded and receive 0 points.**\n"
   ]
  },
  {
   "cell_type": "markdown",
   "metadata": {
    "slideshow": {
     "slide_type": "slide"
    }
   },
   "source": [
    "## Taak 4 - WordClouds\n",
    "We creeren voor iedere persoon die in de 2de kamer heeft gesproken een wordcloud."
   ]
  },
  {
   "cell_type": "markdown",
   "metadata": {
    "slideshow": {
     "slide_type": "slide"
    }
   },
   "source": [
    "#### Introduction\n",
    " We gaan uit alle XML files de gesproken text gedurende de 'spreekbeurten' halen. Deze tekst slaan wij op in een dictionary. De keys zijn de namen van de sprekers en de values de gesproken text. We maken uiteindelijk een functie die van deze gesproken text een wordcloud maakt. Door de wordclouds met elkaar te vergelijken kan er bijvoorbeeld worden gekeken welke sprekers qua woordgebruik veel op elkaar lijken.\n",
    "* Onderzoeksvraag: Verschilt het woordgebruik van Wilders met die van Rutte?\n"
   ]
  },
  {
   "cell_type": "markdown",
   "metadata": {
    "slideshow": {
     "slide_type": "slide"
    }
   },
   "source": [
    "#### Methodology\n",
    "De data bevat 6443 XML files. In de XML files staat alle data beschreven over wat er is gezegd in de 2de kamer en door wie. De dataset is te downloaden via de volgende link: http://maartenmarx.nl/teaching/DataScience/Data/WildersXMLassignment.\n",
    "Binnen de dataset is er per debat een aparte XML files, in deze XML file zijn 'sprekers' beschreven. In het spreker gedeelte is beschreven wat deze spreker (achternaam) precies heeft gezegd. Deze Data hebben wij per spreker (achternaam) verzameld. Door alle gesproken text per spreker aan elkaar te plakken hebben wij per spreker een enorme 'string' gecreert waarin alle text staat die gesproken is door deze persoon in de 2de kamer.\n",
    "Door deze string vervolgens te tokenizen en te tellen met de Counter function hebben wij een counter object gecreert waarin precies is aangegeven hoe vaak een bepaalde spreker een bepaald woord heeft gezegd.\n",
    "Door dit counter object vervolgens in een wordcloud function te gebruiken hebben wij een wordcloud kunnen creeren voor elke spreker."
   ]
  },
  {
   "cell_type": "markdown",
   "metadata": {},
   "source": [
    "#### Evaluatie\n",
    "De wordclouds zijn gecreert, het is dus inzichtelijk om de wordclouds metelkaar te vergelijken. Het is ons helaas niet meer gelukt de wordclouds ook daadwerkelijk cijfer technisch met elkaar te vergelijken. De onderzoeksvraag is dus te onderzoeken door de wordclouds naast elkaar te leggen, dit geeft echter geen daadwerkelijk antwoord, hiervoor is verder onderzoek noodzakelijk.\n",
    "* Zie einde van de Appendix voor de visualisatie van de wordclouds!"
   ]
  },
  {
   "cell_type": "markdown",
   "metadata": {
    "slideshow": {
     "slide_type": "slide"
    }
   },
   "source": [
    "### Conclusie\n",
    "Als je de wordcloud van Wilders met die van Rutte vergelijkt dan zie je dat er veel woorden overeen komen, meer dan dat ik in eerste instantie had verwacht. Verder onderzoek zal nodig zijn om daadwerkelijk de woordclouds te vergelijken. Het berekenen van een similarity score zou hiervoor een oplossing kunnen zijn."
   ]
  },
  {
   "cell_type": "code",
   "execution_count": 11,
   "metadata": {
    "collapsed": true,
    "slideshow": {
     "slide_type": "slide"
    }
   },
   "outputs": [],
   "source": [
    "%matplotlib inline\n",
    "import pandas as pd\n",
    "import re\n",
    "from lxml import etree \n",
    "from bz2file import BZ2File\n",
    "import codecs\n",
    "import numpy\n",
    "import os\n",
    "from collections import Counter\n",
    "import xml.etree.ElementTree as ET\n",
    "\n",
    "from nltk.corpus import stopwords\n",
    "import nltk\n",
    "from nltk.tokenize import RegexpTokenizer"
   ]
  },
  {
   "cell_type": "code",
   "execution_count": 2,
   "metadata": {
    "collapsed": false,
    "slideshow": {
     "slide_type": "slide"
    }
   },
   "outputs": [
    {
     "data": {
      "text/plain": [
       "{'Dijkgraaf': u'Voorzitter. Ik lees direct mijn motie voor.\\u200a Het is helder dat de staatssecretaris met Brussel in overleg moet treden als de motie wordt aangenomen en moet worden uitgewerkt. Altijd geldt dat als een aangenomen motie om de een of andere reden niet uitgevoerd kan worden, de staatssecretaris de Kamer moet melden dat het is geprobeerd, maar dat het niet is gelukt. De beweging die de staatssecretaris nu maakt, zie ik als: als de motie wordt aangenomen, ga ik hem uitvoeren, maar dan heb ik natuurlijk wel medewerking van Brussel nodig. Ik zie dus niet zo goed wat het probleem is als we deze motie in stemming brengen.\\u200a Ik houd de motie nog niet aan, want dan moet ik eerst nog even overleggen met de mede-indieners. Ik moet even mijn knopen tellen, al zal dat snel moeten. Ik interpreteer het echter zo dat de staatssecretaris de motie uitvoert alsof ze is aangenomen, terwijl ze echter op de plank ligt.\\u200a Ik ga even overleggen, voorzitter.\\u200a',\n",
       " 'Dijksma': u'Voorzitter. Ik heb een reactie op twaalf ingediende moties en \\xe9\\xe9n vraag.\\u200a In de motie-Smaling op stuk nr. 853 word ik verzocht om de snelle invoering van het programma dat over marktverantwoordelijkheid gaat en een kant-en-klaar plan om productiebeheersing in de melkveehouderij te bewerkstelligen. Wij hebben daarover vanmiddag uitgebreid van gedachten gewisseld. De heer Smaling weet ook dat ik voor een andere route kies. Ik begrijp dat hij nu een alternatief voorlegt, maar ik moet deze motie vanuit mijn ingeslagen weg ontraden.\\u200a De motie-Smaling op stuk nr. 854 moet ik ook ontraden. De heer Smaling vraagt iets wat op zichzelf terecht is, namelijk: zorg ervoor dat in het gesprek over de toekomst van de melkveehouderij ook grondgebonden boeren hun stem kunnen laten horen. Ik denk niet dat het goed is om vanuit hier te gaan meebepalen welke organisaties wel en welke niet worden uitgenodigd, maar ik zal zeker ook met vertegenwoordigers van die groepen spreken en dat onderdeel heel goed meewegen in de plannen die ik de Kamer voorleg. Dat wil ik de Kamer wel toezeggen. Als de Kamer dan voorstellen krijgt, kan zij altijd controleren of dat wel goed gedaan is, maar ik wil nu niet op enige organisatie gaan sturen. Om die reden wil ik de motie ontraden, maar de geest van de motie omarm ik uiteraard.\\u200a In zijn motie op stuk nr. 855 vraagt de heer Smaling mij om te sturen op een omslag van kwantiteit naar kwaliteit. Mijn stelling is dat Nederland daar eigenlijk al een hele tijd mee bezig is. In die zin zou ik deze motie kunnen zien als ondersteuning van beleid. Mocht de heer Smaling iets heel anders van mijn vragen, dan krijgen we een andere discussie. In de verschillende sectoren is dit stelselmatig het uitgangspunt. Dat zie je niet alleen aan het recept voor duurzaam varkensvlees, maar ook aan alle plannen rondom de Kip van Morgen of aan het feit dat men ook in de melkveehouderij duurzaamheid hoog op de agenda heeft staan. Voor mij is dit eveneens een belangrijk punt.\\u200a Ik kom op de motie-Lodders c.s. op stuk nr. 856. Ook hierover hebben we uitgebreid gediscussieerd tijdens het algemeen overleg. Ik heb het volgende vastgesteld. Ja, er is alle aanleiding om de varkenshouderij te gaan revitaliseren. Ja, dat kunnen de boeren zeker niet alleen; daartoe hebben ze de steun nodig van de overheid, maar het is echt de weg terug naar vroeger als je dat zou doen met minder duurzaamheid en bijvoorbeeld minder dierenwelzijn. Zo heeft mevrouw Lodders deze motie wel steeds uitgelegd. Daar is zij heel open in: zij wil af van dergelijke regelgeving en dat lijkt mij echt niet de juiste weg. Ook om die reden moet ik deze motie ontraden. Overigens moet ik ook puur praktisch opmerken dat met name de milieuregelgeving geen nationale kop is, maar rechtstreeks voortvloeit uit Europese regelgeving. Die veronderstelling klopt dus niet.\\u200a In de motie op stuk nr. 857 wordt mij verzocht om een heel aantal zaken uit te zoeken. Zoals de motie nu is geformuleerd, moet ik haar ontraden. Ik wil wel de toezegging doen die ik ook tijdens het debat heb gedaan. Ik ben van harte bereid om de Commissie te vragen of men op basis van wat men heeft een analyse kan maken van de plattelandsontwikkelingsprogramma\\'s en of men duidelijk kan maken wat daarbij opvalt gelet op de doelstellingen die wij bij het begin van het gemeenschappelijk landbouwbeleid hebben afgesproken. Dit kan heel goed een document worden dat wij gaan gebruiken voor de midterm review van het gemeenschappelijk landbouwbeleid. De vraag is op zichzelf begrijpelijk en terecht, maar mijn mensen hebben niet de instrumenten noch alle informatie om daar een goed verhaal van te kunnen maken. Ik heb mevrouw Lodders aangeboden om evidente voorbeelden aan te dragen van dingen die niet passen binnen spelregels. Als ik op die manier aan de slag kan, vraag ik haar om de motie aan te houden. Als zij dat wil doen, zeg ik ook toe dat ik in de brief met het verslag van de Raad zal terugkomen op de reactie van de Commissie op mijn vraag. Ik hoop dat ik daar bij de eerstvolgende verslaglegging op kan terugkomen, maar misschien moet ik daar een aparte gesprek met de Commissaris over voeren en dan duurt het wat langer. Ik zal aangeven hoe ik dat zal oppakken. Het is net een iets andere invalshoek dan de motie.\\u200a Dan kom ik bij de motie van de heer Geurts op stuk nr. 858, die mij vraagt om de tarieven van de NVWA naar beneden bij te stellen. Dat is inderdaad een ongedekte cheque. Iemand moet de rekening van de NVWA betalen. Als dit niet via de retributies gebeurt, dan schuift de rekening automatisch door naar de begroting van mijn departement. Dat is niet voorzien en om die reden moet ik deze motie ontraden.\\u200a Dat weet ik niet. Ik moet de tarieven naar beneden bijstellen. U kwantificeert het niet. U zegt niet dat de tarieven met 1%, 5% of 10% moeten dalen. Daar hangt wel van af welk bedrag daarvoor nodig is. Als ik zo onaardig mag zijn, dan wijs ik erop dat de heer Geurts alleen het gebaar maakt dat de tarieven naar beneden moeten. Dan is het de vraag hoe royaal dat gebaar is of hoe minimaal, al denk ik niet dat de heer Geurts dat laatste bedoelt. Het kost gewoon geld en dat weet de heer Geurts ook wel.\\u200a Ik heb dit heel duidelijk in het debat naar voren gebracht. Ik ben bereid te kijken hoe wij die kosten naar beneden kunnen brengen onder de voorwaarde dat de sector zelf op een aantal punten garanties geeft, bijvoorbeeld dat wij vertrouwen kunnen hebben in de keten als het gaat om het vervoer van vee. Dat kan zeker een inzet zijn. Dat is echter echt iets anders dan op voorhand alle tarieven naar beneden bijstellen. Ik ben heel precies in wat ik eventueel kan bieden, maar ook in wat ik er van de sector voor terugvraag, namelijk vertrouwen. Ik wil niet opnieuw debatten zoals dat over het rapport-Joustra. Ik heb ook het boek Uitgebeend van de heer Van Silfhout aangehaald. Die debatten wil ik niet graag nog een keer voeren. Daar moet de heer Geurts ook rekening mee houden, want dan zien wij elkaar hier weer terug met een heel ander probleem.\\u200a De motie-Geurts c.s. op stuk nr. 859 ontraad ik. Ik doe dat niet omdat wij op dat punt geen beweging willen maken. Dat doen we wel. Ook hiervoor geldt dat het in vertrouwen moet kunnen. Misschien kan het zo snel, kunnen we het nog dit jaar mogelijk maken, maar dat hangt echt ook af van de vraag of het op orde is. Wat de heer Geurts doet, is het omdraaien. Hij zegt: die datum is er en het maakt niet uit hoe, zo moet het. Dat is begrijpelijk vanuit zijn kant, maar dan kom ik terug op mijn vorige punt: ik vind dat we er ook zeker van moeten zijn dat we de problemen rondom het vervoer van vee die we een tijd geleden hadden niet terugkrijgen. De sector is daar ver in. Geef ons nu de tijd om dat met elkaar goed op orde te krijgen. Ik zeg de heer Geurts dat ik mijn best doe om dat op tijd te doen, maar hij moet niet met zo\\'n datum komen. Dat is gewoon niet fair.\\u200a Nee.\\u200a Dat mag. Ik zeg wel dat we een pilot hebben die als het goed is deze maand nog ingaat. Op basis van daarvan kunnen we bespreken hoeveel tijd we nodig hebben om op grond van de ervaringen een vervolgbesluit te nemen. Er is mij alles aan gelegen om dat, als dat kan, snel en soepel te doen. Dat is mijn inzet. Dat mag de Kamer van mij vragen. Ik kan me echter niet verbinden aan een precieze datum, omdat ik ook niet precies weet hoe het met die pilot loopt. De heer Geurts veronderstelt dat ik dat allemaal al weet, maar dat weet niemand van ons nog.\\u200a Ik kom nu bij de motie op stuk nr. 860. U krijgt nu eindelijk goed nieuws, zeg ik tegen de heer Geurts. Misschien vindt hij het, met mij, fijn om dat te horen. Ik beschouw de motie op stuk nr. 860 als echte ondersteuning van de inzet die ik al heb in de Landbouwraad, dus die wil ik graag aan het oordeel van de Kamer overlaten.\\u200a Wat betreft de motie op stuk nr. 861 wil ik een voorstel doen aan mevrouw Dik-Faber. Zoals het nu in de motie staat, gaat het wel heel snel. Voordat we \\xfcberhaupt iets voorleggen aan de ACM zou ik eerst met de sector en met de keten in gesprek willen over de vraag of zij zelf dat initiatief wel zien zitten. Voordat je dat nu allemaal weer aan allerlei instanties voorlegt, denk ik dat dat het eerste gesprek moet zijn. Als mevrouw Dik nu bereid is om deze motie aan te houden, zeg ik haar toe dat ik dit initiatief in de regiegroep Vitale Varkenshouderij zal inbrengen en dat we indien het noodzakelijk is om mededingingsverkenningen uit te voeren dat uiteraard zullen doen, maar wel in die volgorde. Dat is een andere volgorde dan mevrouw Dik-Faber voorstelt.\\u200a Er moet dan nog \\xe9\\xe9n klein mini-amendementje als u dat goed vindt, namelijk dat als de sector het ook ziet zitten \\u2014 u weet al dat dat zo is, maar ik wil dat gesprek toch graag eerst even voeren \\u2014 ik het kan voorleggen aan de ACM. Als u dat goed vindt, kan ik deze motie aan het oordeel van de Kamer overlaten. Ik zou het pakken.\\u200a Ik ook. Met dank aan mevrouw Dik.\\u200a Ja. Precies.\\u200a Dan kom ik bij de motie van de leden Ko\\u015fer Kaya en Grashoff op stuk nr. 862. Die vragen mij om in het geval er financiering vanuit de EFSI-gelden komt echt te gaan voor wat zij strategische investeringen noemen die vooral de landbouwinnovatie moeten bevorderen. Ik denk dat terecht door mevrouw Lodders is aangegeven dat het dan zeker moet gaan om een gelijk speelveld. Dat zal dus ook mijn inzet zijn. Mevrouw Lodders vroeg ook naar de uitkomst en vroeg om een garantie. Die kan ik haar natuurlijk niet bieden, want behalve ik zitten er nog 27 bewindspersonen aan tafel. Ik vind het wel zeer terecht als we hierop inzetten. Die inzet zal ik zelf ook altijd kiezen. In die zin is deze motie ondersteuning van beleid en kan ik het oordeel erover aan de Kamer laten. Wij nemen het gelijke speelveld hierbij dus nadrukkelijk mee.\\u200a Daarmee kom ik op de motie op stuk nr. 863, van mevrouw Ouwehand. Zij verzoek mij, mij in te zetten voor een krimp van de varkensstapel. We hebben in het debat natuurlijk heel nadrukkelijk vastgesteld dat het gezond maken van de sector waarschijnlijk zal leiden tot krimp, omdat we gewoon te veel produceren. Bij de formulering uit deze motie is krimp echter een doel op zich. Ik begrijp dat, gezien de politieke achtergrond van mevrouw Ouwehand, maar voor mij is dat niet het doel. Mijn inzet is het gezond maken van de sector. Daarvan zal onherroepelijk een krimp van de sector onderdeel zijn, omdat we nu gewoon zien dat er sprake is van overproductie. De vraag daalt en we zullen die kwaliteitsslag dus moeten maken. Dat blijf ik ook zeggen. Toch benader ik het dus net een tikje vanuit een andere invalshoek dan mevrouw Ouwehand doet. Ik weet dat zij nu diep teleurgesteld is, maar we kunnen het nou eenmaal niet altijd eens zijn.\\u200a Wat mevrouw Ouwehand nu zegt, ga ik wel doen. Ik denk namelijk dat er meer bewindslieden dan alleen de Nederlandse van overtuigd zijn dat we het echt in Europa over een andere boeg zullen moeten gooien om ook op termijn concurrerender te zijn. Dat zal betekenen dat we mee moeten investeren in verhoging van de kwaliteit en uiteindelijk zal het ook leiden tot minder aanbod. Dat is overigens een beweging die vanzelf wel zal ontstaan, ook zonder onze inmenging. Maar dat is echt iets anders dan wat er in de motie staat. We komen dus volgens mij een heel eind, maar mijn pad naar die revitalisering is breed. Daarop wil ik samen met de sector optrekken. De sector wil het zelf ook. Die route wil ik graag blijven bewandelen. Op dat punt hebben mevrouw Ouwehand en ik gewoon een verschil van mening over de tekst van deze motie. Het oordeel over de motie blijft dus: ontraden.\\u200a Dat geldt eigenlijk ook voor de volgende motie, op stuk nr. 864. Dat weet de heer Dijkgraaf ook best. Het vijfde actieprogramma biedt mij namelijk niet zomaar deze mogelijkheid. Ik wil wel een verzoek neerleggen bij de Europese Commissie om te bezien of men mij daar toestaat dat ik die termijn verleng. Dat zal ik dan ook terstond oppakken, dus misschien is de heer Dijkgraaf dan bereid om zijn motie nog aan te houden. Daarbij gaat het echter echt om een inspanningsverplichting. Dat is iets anders dan het stempelen van de uitkomst. Ik ga het hele debat hierover niet overdoen, want ik weet best dat de heer Dijkgraaf ook gevoelig is voor gewoon bestuurlijke redeneringen en opmerkingen daarover van mijn kant. Ik kan mij tenminste zomaar voorstellen dat hij zulke opmerkingen ook nog weleens verstandig vindt. Ik wil hem daarom eigenlijk vragen om mij de ruimte te geven om dit bij de Commissie neer te leggen. Dan kom ik er zo snel mogelijk in de Kamer op terug.\\u200a Ik wel en ik zal ook uitleggen waarom. Omdat dat door de mensen die wat verder weg van Den Haag staan, onmiddellijk zal worden gezien als \"zo gaat dat dus gebeuren\". U en ik weten dat het niet zomaar zo zal gebeuren, maar dat daar echt iets voor nodig is. In het kader van re\\xebel verwachtingsmanagement vind ik het niet fair om nu iets neer te leggen waarvan men in de buitenwereld denkt \"consider it done\" \\u2014 sorry, ik bedoel: het is geregeld \\u2014 terwijl u en ik weten dat ik daarvoor nog een gang naar Canossa zal moeten maken, zal ik maar zeggen. Ik ben bereid om dat te doen, dus dat aanbod krijgt u, maar ik hoop dat u met mij een klein stukje realiteitszin aan iedereen wilt overbrengen dat het niet zomaar geregeld is. Ik vind dat wel fair.\\u200a Ja, ik zal het voorstel in Brussel doen en vragen of men daarmee akkoord kan gaan. Maar ik kan beslist geen garantie geven. Als ik zelf dacht dat het een eitje was, had ik het natuurlijk niet zo ver laten komen, dat begrijpt u.\\u200a Succes, ik hoop op een vruchtbare uitkomst.\\u200a Ik was de heer Geurts nog een antwoord schuldig op zijn vraag over het verzoek om vervroegd uit te betalen. Dat wordt maandag besproken. Ik ben niet op voorhand tegen, maar het hangt sterk af van de condities. Als het hopeloos ingewikkeld wordt en het ons meer kost dan het oplevert, hebben we er echt helemaal niks aan. Mijnheer Geurts, als u het goed vindt, wil ik het op die manier interpreteren.\\u200a',\n",
       " 'Dik-Faber': u'Mijn vraag is exact dezelfde. Ik heb, eerlijk gezegd, nog niet een antwoord gehoord. Er ligt hier een motie. De tarieven moeten omlaag. Daar hebben we vanmiddag uitvoerig over gedebatteerd. Ik snap het allemaal heel goed, maar er moet wel even een dekkingsvoorstel tegenover staan. Anders kunnen wij de motie niet steunen.\\u200a Voorzitter. Ik heb een motie.\\u200a Mijn fractie heeft overleg met de varkenssector, dus ik zie het overleg dat de staatssecretaris gaat voeren met vertrouwen tegemoet. Ik stel voor dat ik \\u2014 dat moet dan waarschijnlijk ter plekke \\u2014 het even omdraai: verzoekt de regering om het Duitse initiatief te bestuderen, het initiatief ook te bespreken in het bestuurlijk overleg over de varkenssector en daarna een oordeel van de ACM te vragen. Dan wordt dat de volgorde. Volgens mij kom ik dan tegemoet aan de bezwaren van de staatssecretaris.\\u200a Ik weet de reactie van de sector al, dus we passen het wel aan en dan gaan we met elkaar dit pad in en ben ik heel benieuwd naar de uitkomst.\\u200a',\n",
       " 'Geurts': u'Voorzitter. Ik dien drie moties in.\\u200a Mijn derde motie luidt als volgt.\\u200a Ik heb daarover nagedacht. Het is in dit huis niet ongebruikelijk om het bij belangrijke onderwerpen op deze manier te doen. Kijk naar defensie. Ook ten aanzien van defensie is een motie ingediend, ook door de partij van mevrouw Lodders, die op dat moment nog niet gedekt was. We komen binnenkort met een begroting. Ik kan nu ook geen amendement met dekking meeleveren. Als de motie aangenomen wordt, hoop ik dat we er met het kabinet uitkomen. Anders zal ik bekijken hoe ik het bij de begroting ga doen.\\u200a Eigenlijk komt nu hetzelfde antwoord. Ik zeg het tegen mevrouw Dik-Faber alleen op een iets andere manier. Ook haar fractie heeft meegewerkt aan een motie over defensie, zonder dat er op het moment van indiening een dekkingsvoorstel was. Dat kon ook niet. Ik kan dat nu ook niet leveren. Dit is zeer belangrijk. Het is \\xe9\\xe9n van de weinige dingen die wij op dit moment voor onze eigen agrarische sector kunnen betekenen. De staatssecretaris had het vanmiddag over eerlijke politiek. Ik heb aangegeven dat ik daar een streep onder wil zetten. Dit kunnen wij doen. Ik denk dat er op dit moment actie moet worden ondernomen om onze familiebedrijven in de agrarische sector, in de varkenshouderij, op deze manier te helpen.\\u200a Ik heb nog een vraag die vanmiddag in de drukte niet is beantwoord. Ik heb het antwoord althans niet gehoord. Ik heb gevraagd of de staatssecretaris bereid is om in Brussel te pleiten voor het eerder uitkeren van de inkomenstoeslagen. Kan zij daar nog even een antwoord op geven?\\u200a Ik wil de staatssecretaris dan graag vragen welk bedrag er volgens haar gedekt moet worden.\\u200a Ik had het vanmiddag tijdens het AO over de markt. Ik wil toch graag weten waar de staatssecretaris aan denkt. Is dat 1%, 5%, 10% of 20%? Is daarover te praten met dit kabinet?\\u200a Dan wil ik de staatssecretaris toch vragen \\u2014 ik heb het vanmiddag al geprobeerd en doe nu een ultieme poging \\u2014 of zij dan wel een datum kan noemen, waarop zij denkt \\u2026\\u200a Nou, dan zijn we snel uitgepraat. Dan laat ik de motie gewoon in stemming brengen.\\u200a',\n",
       " u'Ko\\u015fer Kaya': u'Mevrouw Ouwehand was eerst, geloof ik.\\u200a Voorzitter. Verduurzaming, innovatie en ketentransparantie; dat is de wijze waarop wij de toekomst in kunnen met onze boeren en agrarische sector en de kwaliteit kunnen verbeteren. Er is al een toezegging gedaan over de ketentransparantie, dus daar zal ik geen motie over indienen. Ik doe dat wel over innovatie en duurzaamheid.\\u200a Voor een level playing field is het uiteraard belangrijk dat ook de andere Europese landen hieraan voldoen. Ik ga ervan uit dat dit de inzet van de staatssecretaris zal zijn.\\u200a',\n",
       " 'Lodders': u'Voorzitter. Ook ik ga direct over tot het voorlezen van mijn moties. Ik dien er twee in.\\u200a Ik heb een vraag over de eerste motie van de heer Geurts. Deze gaat over een verlaging van de tarieven van de NVWA. Het kan aan mij liggen, maar ik heb een dekking gemist. Hoe wordt deze motie gedekt?\\u200a Voor mij is volgende essentieel voor de beoordeling of ik de motie wel of niet zal steunen. Geldt datgene wat u vraagt voor alle Europese landen? Hoe wordt dit expliciet vastgelegd? Het kan niet zo zijn dat wij alleen in Nederland uw doelstelling hanteren, terwijl andere landen in Europa wel marktverstorend werken.\\u200a Dan zou ik aan de staatssecretaris willen vragen of zij daar in haar beantwoording expliciet op wil ingaan, zodat wij de garantie hebben dat andere landen hierop niet anders kunnen inzetten.\\u200a Omwille van de tijd is het niet handig om dit nu verder uit te discussi\\xebren. Ik ben blij met de toezegging van de staatssecretaris. Ik houd de motie aan. Ik kom er zeker nog een keer bij de staatssecretaris op terug.\\u200a',\n",
       " 'NA': u'Pardon, ik was wel heel snel. Maar mevrouw Ouwehand vindt het geen probleem dat wij het andersom doen. Excuses, mevrouw Ouwehand.\\u200a',\n",
       " 'Ouwehand': u'Voorzitter. Het is crisis in de varkenssector. Dat is niet nieuw. Het enige verschil is dat wij nu misschien wat beter voor ons zien dat de situatie nijpend is en dat wij de problemen niet langer kunnen negeren. De staatssecretaris heeft gezegd dat een inkrimping van de varkensstapel onvermijdelijk is, Nederlands en Europees. Zij verdient daarvoor een compliment, omdat haar voorgangers tot nu toe alleen maar hebben weggekeken van de problemen en hebben gestuurd op bulkproductie, terwijl bulkproductie geen verdienmodel is. De Partij voor de Dieren vindt wel dat je, als je toegeeft dat krimp onvermijdelijk is \\u2014 waarvoor nogmaals complimenten \\u2014 daar ook werk van moet maken. Wij geven haar daarvoor graag een steun in de rug met de volgende motie.\\u200a In het algemeen overleg heb ik het benoemd: wij zijn blij met de inzet op een krimp van de veestapel. Dat zou ook recht doen aan de klimaat- en biodiversiteitsdoelen. Het verbaast ons echter dat de staatssecretaris toch blijft inzetten op de export. Nu zei de staatssecretaris in het algemeen overleg \\u2014 ik heb er de rest van de middag op zitten kauwen \\u2014 \"ja, maar dat is duurzaam\". Ik probeer mij voor de geest te halen wat dat dan precies betekent. Wij hebben hier in Nederland een heel grote varkenssector. Wij halen kostbaar voer uit landen waar mensen zelf honger hebben. Er is honger in de wereld en er verdwijnen oerbossen. Dat voer voeren wij aan onze varkens. Dan slachten wij zo\\'n dier en dan zeggen wij hier in Nederland: wij lusten niet alles, wij sturen de rest naar China. Ik ken mensen die dat niet duurzaam zouden noemen, maar een tikkeltje decadent. Het begint ook met een \"d\", maar het is echt een ander woord.\\u200a Nee, zeker niet. Maar ik ben het wel met de staatssecretaris eens als zij zegt dat krimp onvermijdelijk is. Het enige wat de Partij voor de Dieren doet met deze motie is hierbij een vervolgstap zetten, juist omdat deze sector zo lang in de luren is gelegd. Als krimp onvermijdelijk is, laten we er dan ook voor zorgen dat we naar krimp toe werken. Op die manier ontstaat een pad waardoor varkensboeren ook weten waar ze aan toe zijn en waar het naartoe gaat. Mijn verzoek is dus heel eenvoudig. De staatssecretaris heeft aan de Kamer geschreven dat krimp onvermijdelijk is. Ik verzoek haar, dat maandag in de Landbouwraad te bespreken. Ik vraag haar om ook andere landbouwministers ervan te overtuigen dat die krimp onvermijdelijk is en om erover na te denken hoe we dat dan zo goed mogelijk kunnen begeleiden. Dat is waar in de motie om wordt gevraagd.\\u200a',\n",
       " 'Smaling': u'Voorzitter. Ik dien meteen mijn drie moties in.\\u200a',\n",
       " 'voorzitter': u'Er hebben zich voor dit VAO tien sprekers gemeld, dus we zijn wel even bezig.\\u200a Dat was nog een openstaande vraag van vanmiddag.\\u200a Ik geef het woord aan mevrouw Dik-Faber. De heer Graus heeft aangegeven dat hij ervan afziet om het woord te voeren.\\u200a Dan geef ik het woord aan mevrouw Ko\\u015fer Kaya van D66. Mevrouw Ko\\u015fer Kaya, als ik mij niet vergis, is het de eerste keer na uw installatie dat u weer plenair spreekt.\\u200a Als laatste spreker in deze termijn van de zijde van de Kamer geeft ik het woord aan de heer Dijkgraaf \\u2014 met een \"D\", fluistert hij mij in \\u2014 van de SGP.\\u200a Op verzoek van mevrouw Lodders stel ik voor, haar motie (21501-32, nr. 857) aan te houden.\\u200a Daartoe wordt besloten.\\u200a De motie-Dik-Faber/Geurts ( Naar mij blijkt, wordt de indiening ervan voldoende ondersteund.\\u200a Zij krijgt nr.  We gaan over twaalf minuten stemmen, conform de afspraak met de ambtelijk secretarissen.\\u200a'}"
      ]
     },
     "execution_count": 2,
     "metadata": {},
     "output_type": "execute_result"
    }
   ],
   "source": [
    "def extractingText(filepath):\n",
    "    dict_text = {}\n",
    "    #Checking the size to keep empty files (size = 0 bytes) out!\n",
    "    statsinfo = os.stat(filepath)    \n",
    "    if int(statsinfo.st_size) == 0:\n",
    "        return {}\n",
    "    \n",
    "    tree = ET.parse(filepath)\n",
    "    root = tree.getroot()\n",
    "    #Hiermee kijken we naar handelingen (het gedeelte waar de gesproken stukken in staan)\n",
    "    for handelingen in root.iter('handelingen'):\n",
    "        spreekbeurt = []\n",
    "        #Hiermee kijken we naar alle spreekbeuten van de personen\n",
    "        for spreekbeurt in handelingen.iter('spreekbeurt'):\n",
    "            try:\n",
    "                achternaam = spreekbeurt.find('spreker/naam/achternaam').text\n",
    "            except AttributeError:\n",
    "                achternaam = 'NA'\n",
    "  \n",
    "\n",
    "            #Defining what the text is, sometimes it is withn a al-group and sometimes it isn't\n",
    "            #text = spreekbeurt.findall('tekst/al')\n",
    "            \n",
    "            text = spreekbeurt.findall('tekst/al-groep/al')\n",
    "            \n",
    "            if text == []:\n",
    "                text = spreekbeurt.find('tekst/al')\n",
    "                #Adding the single  text element to the dictionary\n",
    "                if achternaam in dict_text:\n",
    "                    #Making sure we put a space when the person is already in the dictionary\n",
    "                    adding = ' ' + text.text\n",
    "                    dict_text[achternaam] += adding\n",
    "                else:\n",
    "                    dict_text[achternaam] = text.text\n",
    "            \n",
    "            #In case the text consists of a list with multiple <AL> elements.\n",
    "            else:\n",
    "                for value in text:\n",
    "                    try:\n",
    "                        if achternaam in dict_text:\n",
    "                            #Making sure we put a space when the person is already in the dictionary\n",
    "                            adding = ' ' + value.text\n",
    "                            dict_text[achternaam] += adding\n",
    "                        else:\n",
    "                            dict_text[achternaam] = value.text\n",
    "                    except TypeError:\n",
    "                        continue                \n",
    "            \n",
    "    return dict_text\n",
    "    \n",
    "        \n",
    "#extractingText('../Week 7/Wilders2014/h-tk-20122013-10-15.xml')\n",
    "test = extractingText('../Week 7/Wilders2014\\h-tk-20142015-108-8.xml')\n",
    "test"
   ]
  },
  {
   "cell_type": "code",
   "execution_count": 3,
   "metadata": {
    "collapsed": false,
    "slideshow": {
     "slide_type": "slide"
    }
   },
   "outputs": [
    {
     "name": "stdout",
     "output_type": "stream",
     "text": [
      "Wall time: 7min 40s\n"
     ]
    }
   ],
   "source": [
    "#Putting all the file paths in one list named file_map\n",
    "directory='../Week 7/Wilders2014'\n",
    "file_map = []\n",
    "for f in os.listdir(directory):\n",
    "    if f.endswith(\".xml\"):\n",
    "        xml = os.path.join(directory, f)\n",
    "        file_map.append(xml)\n",
    "        \n",
    "def RunningAllFiles():\n",
    "    final_dict = {}\n",
    "    for path in file_map:\n",
    "        #running the function explained above\n",
    "        temp_dict = extractingText(path)\n",
    "        if temp_dict == {}:\n",
    "            continue\n",
    "        else:\n",
    "            for key in temp_dict:\n",
    "                if temp_dict[key] == None:\n",
    "                    continue\n",
    "                elif key in final_dict:\n",
    "                    #Making sure we add a space to the beginning of the file to keep thing readable\n",
    "                    adding = ' ' + temp_dict[key]\n",
    "                    final_dict[key] += adding\n",
    "                else:\n",
    "                    final_dict[key] = temp_dict[key]\n",
    "    return final_dict\n",
    "            \n",
    "          \n",
    "#Making sure to count the time since this is a rathet big function, might want to speeden things up!\n",
    "%time final_dict = RunningAllFiles()"
   ]
  },
  {
   "cell_type": "code",
   "execution_count": 10,
   "metadata": {
    "collapsed": false,
    "slideshow": {
     "slide_type": "slide"
    }
   },
   "outputs": [
    {
     "data": {
      "text/plain": [
       "u'Voorzitter. Dat was een verrassing. Dit stukje had ik niet voorbereid. Ik begin met Zijne Majesteit de Koning hartelijk te danken voor deze eervolle onderscheiding. Uiteraard dank ik ook degenen die hem hierop hebben geattendeerd. Nu kom ik aan het voorbereide deel.\\u200a Geachte voorzitter, geachte lede'"
      ]
     },
     "execution_count": 10,
     "metadata": {},
     "output_type": "execute_result"
    }
   ],
   "source": [
    "testing = final_dict['Biesheuvel-Vermeijden']\n",
    "testing[0:300]"
   ]
  },
  {
   "cell_type": "code",
   "execution_count": 6,
   "metadata": {
    "collapsed": false,
    "slideshow": {
     "slide_type": "slide"
    }
   },
   "outputs": [
    {
     "data": {
      "text/plain": [
       "[(u'staatssecretaris', 899),\n",
       " (u'wel', 560),\n",
       " (u'gaat', 512),\n",
       " (u'zorg', 504),\n",
       " (u'mensen', 422),\n",
       " (u'vraag', 360),\n",
       " (u'voorzitter', 342),\n",
       " (u'mevrouw', 337),\n",
       " (u'heel', 334),\n",
       " (u'moeten', 317)]"
      ]
     },
     "execution_count": 6,
     "metadata": {},
     "output_type": "execute_result"
    }
   ],
   "source": [
    "from nltk.corpus import stopwords\n",
    "stopwords = stopwords.words('dutch')\n",
    "extra_stopwords = ['wij','we','ik','jij','mij','me','mijn','je','jouw','jou','hij','zij','het','hem','zijn','haar','heer']\n",
    "\n",
    "def tokenize(text):\n",
    "    '''This funtion tokenizes a given string as input and also removes the Dutch stopwords'''\n",
    "    tokenizer = RegexpTokenizer(r'\\w+')\n",
    "    tokens = tokenizer.tokenize(text.lower())\n",
    "    without_stopwords = [word for word in tokens if word not in stopwords]\n",
    "    without_extra_stopwords = [word for word in without_stopwords if word not in extra_stopwords]\n",
    "    counter = Counter(without_extra_stopwords)\n",
    "    return counter\n",
    "\n",
    "tokenize(final_dict['Agema']).most_common(10)"
   ]
  },
  {
   "cell_type": "code",
   "execution_count": 7,
   "metadata": {
    "collapsed": false,
    "scrolled": true
   },
   "outputs": [
    {
     "data": {
      "text/html": [
       "<center><font size=\"3\">maken</font> <font size=\"3\">alle</font> <font size=\"3\">willen</font> <font size=\"4\">mensen</font> <font size=\"4\">nederland</font> <font size=\"4\">gaat</font> <font size=\"4\">goed</font> <font size=\"4\">motie</font> <font size=\"5\">moeten</font> <font size=\"5\">wel</font> <font size=\"3\">waar</font> <font size=\"4\">vraag</font> <font size=\"3\">minister</font> <font size=\"3\">echt</font> <font size=\"4\">kabinet</font> <font size=\"4\">kamer</font> <font size=\"3\">komen</font> <font size=\"4\">gaan</font> <font size=\"5\">heel</font></center>"
      ],
      "text/plain": [
       "<IPython.core.display.HTML object>"
      ]
     },
     "execution_count": 7,
     "metadata": {},
     "output_type": "execute_result"
    }
   ],
   "source": [
    "from IPython.display import HTML\n",
    "\n",
    "def gen_tags2(words):\n",
    "    return ' '.join([('<font size=\"%d\">%s</font>'%(min(1+words[x]*5/max(words.values()), 5), x)) for x  in words])\n",
    "\n",
    "def makingcloud(string):\n",
    "    '''This function uses the tokenize and gen_tags2 function to create a wordcloud.'''\n",
    "    counttext= tokenize(string) \n",
    "    number_list = []\n",
    "    for word, number in counttext.most_common(20):\n",
    "        number_list.append(number)\n",
    "    min_number = min(number_list)\n",
    "    \n",
    "    topwords= {w:counttext[w] for w in counttext if counttext[w] > min_number}\n",
    "    cloud='<center>'+gen_tags2(topwords)+'</center>'\n",
    "    return HTML(cloud)\n",
    "\n",
    "makingcloud(final_dict['Rutte'])"
   ]
  },
  {
   "cell_type": "code",
   "execution_count": 8,
   "metadata": {
    "collapsed": false
   },
   "outputs": [
    {
     "data": {
      "text/html": [
       "<center><font size=\"2\">jaar</font> <font size=\"2\">land</font> <font size=\"5\">mensen</font> <font size=\"5\">nederland</font> <font size=\"2\">voorzitter</font> <font size=\"2\">gaat</font> <font size=\"2\">partij</font> <font size=\"2\">rutte</font> <font size=\"2\">komen</font> <font size=\"2\">zegt</font> <font size=\"2\">wel</font> <font size=\"3\">moeten</font> <font size=\"3\">minister</font> <font size=\"3\">kabinet</font> <font size=\"2\">onze</font> <font size=\"3\">president</font> <font size=\"2\">vvd</font> <font size=\"2\">gaan</font></center>"
      ],
      "text/plain": [
       "<IPython.core.display.HTML object>"
      ]
     },
     "execution_count": 8,
     "metadata": {},
     "output_type": "execute_result"
    }
   ],
   "source": [
    "makingcloud(final_dict['Wilders'])"
   ]
  }
 ],
 "metadata": {
  "celltoolbar": "Slideshow",
  "kernelspec": {
   "display_name": "Python 2",
   "language": "python",
   "name": "python2"
  },
  "language_info": {
   "codemirror_mode": {
    "name": "ipython",
    "version": 2
   },
   "file_extension": ".py",
   "mimetype": "text/x-python",
   "name": "python",
   "nbconvert_exporter": "python",
   "pygments_lexer": "ipython2",
   "version": "2.7.13"
  }
 },
 "nbformat": 4,
 "nbformat_minor": 2
}
