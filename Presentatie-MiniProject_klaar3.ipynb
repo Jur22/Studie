{
 "cells": [
  {
   "cell_type": "markdown",
   "metadata": {
    "slideshow": {
     "slide_type": "slide"
    }
   },
   "source": [
    "# Sentiment analyse uitspraken politici\n",
    "\n",
    "## Jurian van Zanten & Fleur Koentjes\n",
    "\n",
    "### 10523022 & 10586989\n",
    "### jurianvanzanten@gmail.com & fleurkoentjes@gmail.com"
   ]
  },
  {
   "cell_type": "markdown",
   "metadata": {
    "slideshow": {
     "slide_type": "slide"
    }
   },
   "source": [
    "# Inhoudsopgave\n",
    "1. Probleemstelling en onderzoeksvraag\n",
    "2. Gerelateerd werk en relevantie\n",
    "3. Methode\n",
    "4. Visualisatie\n",
    "5. Uikomsten\n",
    "6. Discussie en vervolg onderzoek\n",
    "7. Conclusie"
   ]
  },
  {
   "cell_type": "markdown",
   "metadata": {
    "slideshow": {
     "slide_type": "slide"
    }
   },
   "source": [
    "# Probleemstelling en onderzoeksvraag"
   ]
  },
  {
   "cell_type": "markdown",
   "metadata": {
    "slideshow": {
     "slide_type": "fragment"
    }
   },
   "source": [
    "## Wat is het sentiment van verschillende partijleden tegenover de verschillende debatonderwerpen in het kabinet Rutte ll\n",
    "- Kiezen is moeilijk\n",
    "- 40% van de kiezer zweeft\n",
    "- mogelijkheden met de dataset"
   ]
  },
  {
   "cell_type": "markdown",
   "metadata": {
    "slideshow": {
     "slide_type": "slide"
    }
   },
   "source": [
    "# Gerelateerd werk en relevantie"
   ]
  },
  {
   "cell_type": "markdown",
   "metadata": {
    "slideshow": {
     "slide_type": "fragment"
    }
   },
   "source": [
    "- Onderzoek naar sentiment \n",
    "- Pattern.nl module met sentiment(polariteit, subjectiviteit)\n",
    "- Subjectiviteit heeft veel invloed \n",
    "- Veel toegepast op data van Twitter "
   ]
  },
  {
   "cell_type": "markdown",
   "metadata": {
    "slideshow": {
     "slide_type": "slide"
    }
   },
   "source": [
    "# Methode\n"
   ]
  },
  {
   "cell_type": "markdown",
   "metadata": {
    "slideshow": {
     "slide_type": "fragment"
    }
   },
   "source": [
    "- Aangeleverde dataset \n",
    "- Handelingen van de Tweede Kamer Rutte ll\n",
    "- XML formaat\n",
    "- Data selectie proces"
   ]
  },
  {
   "cell_type": "code",
   "execution_count": null,
   "metadata": {
    "collapsed": true,
    "slideshow": {
     "slide_type": "slide"
    }
   },
   "outputs": [],
   "source": [
    "#Filteren van stopwoordjes\n",
    "stopset = (set(stopwords.words('dutch')) - set(('geen', 'eens', 'bij', 'doen', 'heeft', \n",
    "                                                'ja', 'maar', 'meer', 'moet', 'niet', \n",
    "                                                'niets', 'tegen', 'toch', 'veel', 'voor', \n",
    "                                                'zonder')))"
   ]
  },
  {
   "cell_type": "code",
   "execution_count": null,
   "metadata": {
    "collapsed": true
   },
   "outputs": [],
   "source": [
    "name1 = 'Pechtold'\n",
    "name2 = 'Wilders'\n",
    "\n",
    "data1, data2 = get_sentiment(name1, name2)\n",
    "df1 = pd.DataFrame(data1, columns = ['Naam', 'Onderwerp', 'Polariteit', 'Subjectiviteit'])\n",
    "df1 = df1.groupby('Onderwerp').mean()\n",
    "\n",
    "df2 = pd.DataFrame(data2, columns = ['Naam', 'Onderwerp', 'Polariteit', 'Subjectiviteit'])\n",
    "df2 = df2.groupby('Onderwerp').mean()\n",
    "\n",
    "total_df = df1.join(df2, lsuffix='_'+name1, rsuffix='_'+name2, how='inner')\n",
    "total_df = total_df.dropna()"
   ]
  },
  {
   "cell_type": "markdown",
   "metadata": {},
   "source": [
    "<img src='"
   ]
  },
  {
   "cell_type": "markdown",
   "metadata": {
    "slideshow": {
     "slide_type": "slide"
    }
   },
   "source": [
    "# Visualisatie"
   ]
  },
  {
   "cell_type": "markdown",
   "metadata": {
    "slideshow": {
     "slide_type": "slide"
    }
   },
   "source": [
    "<img src=\"https://www.mupload.nl/img/oyeonhenwswpj.png\">"
   ]
  },
  {
   "cell_type": "markdown",
   "metadata": {
    "slideshow": {
     "slide_type": "slide"
    }
   },
   "source": [
    "<img src=\"https://www.mupload.nl/img/j0bb6ryfbjt1y.png\">"
   ]
  },
  {
   "cell_type": "markdown",
   "metadata": {
    "slideshow": {
     "slide_type": "slide"
    }
   },
   "source": [
    "# Uikomsten"
   ]
  },
  {
   "cell_type": "markdown",
   "metadata": {
    "slideshow": {
     "slide_type": "slide"
    }
   },
   "source": [
    "<img src='https://www.mupload.nl/img/mk3dxspedpixn.png'>"
   ]
  },
  {
   "cell_type": "markdown",
   "metadata": {
    "slideshow": {
     "slide_type": "slide"
    }
   },
   "source": [
    "<img src='https://www.mupload.nl/img/rillavdmesxlp.png'>"
   ]
  },
  {
   "cell_type": "markdown",
   "metadata": {
    "slideshow": {
     "slide_type": "slide"
    }
   },
   "source": [
    "# Discussie en vervolg onderzoek"
   ]
  },
  {
   "cell_type": "markdown",
   "metadata": {
    "slideshow": {
     "slide_type": "fragment"
    }
   },
   "source": [
    "- Segmenteren tekst van politici\n",
    "- Relevantere dataset sentiment functie \n",
    "- Veel verschillende mogelijkheden met de data "
   ]
  },
  {
   "cell_type": "markdown",
   "metadata": {
    "slideshow": {
     "slide_type": "slide"
    }
   },
   "source": [
    "# Conclusie"
   ]
  },
  {
   "cell_type": "markdown",
   "metadata": {
    "slideshow": {
     "slide_type": "fragment"
    }
   },
   "source": [
    "- Kamerleden zijn subjectief \n",
    "- Verschillen in polariteit naar verwachting \n",
    "- Functionerende code met politici als variabele"
   ]
  },
  {
   "cell_type": "markdown",
   "metadata": {
    "slideshow": {
     "slide_type": "slide"
    }
   },
   "source": [
    "# Bedankt zijn er nog vragen"
   ]
  },
  {
   "cell_type": "code",
   "execution_count": null,
   "metadata": {
    "collapsed": false,
    "slideshow": {
     "slide_type": "skip"
    }
   },
   "outputs": [],
   "source": [
    "!ipython nbconvert --post serve --to slides --reveal-prefix \"http://maartenmarx.nl/reveal.js\" NameOfYourSlideShow.ipynb"
   ]
  }
 ],
 "metadata": {
  "celltoolbar": "Slideshow",
  "kernelspec": {
   "display_name": "Python 2",
   "language": "python",
   "name": "python2"
  },
  "language_info": {
   "codemirror_mode": {
    "name": "ipython",
    "version": 2
   },
   "file_extension": ".py",
   "mimetype": "text/x-python",
   "name": "python",
   "nbconvert_exporter": "python",
   "pygments_lexer": "ipython2",
   "version": "2.7.13"
  }
 },
 "nbformat": 4,
 "nbformat_minor": 2
}
