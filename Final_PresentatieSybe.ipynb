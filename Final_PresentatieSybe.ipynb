{
 "cells": [
  {
   "cell_type": "markdown",
   "metadata": {
    "slideshow": {
     "slide_type": "-"
    }
   },
   "source": [
    "# De verdeling van edits per editor op Wikipedia\n",
    "\n",
    "## Notebook made by  \n",
    "\n",
    "|** one** | **two** | **and a half**|\n",
    "|:- |:-|:-|\n",
    "|Bas Verhaar|Sybe Tigchelaar|Iris Bosma|\n",
    "\n",
    "\n",
    "<img src='http://i.imgur.com/Ao6boSR.jpg' width='400px' align='center' />\n",
    "\n",
    "\n",
    "\n"
   ]
  },
  {
   "cell_type": "markdown",
   "metadata": {
    "slideshow": {
     "slide_type": "slide"
    }
   },
   "source": [
    "## Opzet\n",
    "\n",
    "* Dataset\n",
    "* Parser\n",
    "* Data analyse"
   ]
  },
  {
   "cell_type": "markdown",
   "metadata": {
    "slideshow": {
     "slide_type": "slide"
    }
   },
   "source": [
    "## Dataset\n",
    "\n",
    "* Meerdere Datasets op Wikipedia Dump\n",
    "* Pagina's met de complete pagina edit geschiedenis\n",
    "* Onze dataset is 1gb .bz2 file(21gb xml)\n",
    "* 499 paginas aan edits\n",
    "\n",
    "verkregen van: https://dumps.wikimedia.org/enwiki/20151201/\n"
   ]
  },
  {
   "cell_type": "markdown",
   "metadata": {
    "collapsed": false,
    "slideshow": {
     "slide_type": "slide"
    }
   },
   "source": [
    "## Voorbeeld Dataset\n",
    "\n",
    "<img src='http://i.imgur.com/mruT7id.png' width='1000px' />"
   ]
  },
  {
   "cell_type": "markdown",
   "metadata": {
    "slideshow": {
     "slide_type": "slide"
    }
   },
   "source": [
    "## Focus: Editor graaf\n",
    "\n",
    "* Hoeveel edits zijn er per editor?\n",
    "* Hoeveel pagina's zijn geëdit per editor?\n",
    "* We willen een affiliatie network laten zien van de users (met als edges gemeenschappelijke pagina's)"
   ]
  },
  {
   "cell_type": "markdown",
   "metadata": {
    "collapsed": false,
    "slideshow": {
     "slide_type": "slide"
    }
   },
   "source": [
    "## Uitleg parser\n",
    "\n",
    "* Etree parser\n",
    "* 15 min volledige bestand geparst\n"
   ]
  },
  {
   "cell_type": "code",
   "execution_count": 1,
   "metadata": {
    "collapsed": false,
    "slideshow": {
     "slide_type": "subslide"
    }
   },
   "outputs": [
    {
     "name": "stdout",
     "output_type": "stream",
     "text": [
      "All imports done\n",
      "E:\\Bas\\Documents\\informatiekunde\\Data Science\\Miniproject\\enwiki-20151201-pages-meta-history1.xml-p000009358p000010000.bz2\n"
     ]
    }
   ],
   "source": [
    "# Imports\n",
    "%matplotlib inline\n",
    "import matplotlib.pyplot as plt\n",
    "import pylab\n",
    "import pandas as pd\n",
    "import re\n",
    "from lxml import etree\n",
    "from bz2file import BZ2File\n",
    "from collections import defaultdict\n",
    "from collections import Counter\n",
    "import urllib\n",
    "import os\n",
    "import sys\n",
    "import timeit\n",
    "import networkx as nx\n",
    "import itertools\n",
    "\n",
    "\n",
    "\n",
    "print 'All imports done'\n",
    "\n",
    "#change these two names if you want to try out a new file.\n",
    "onebigfile = 'enwiki-20151201-pages-meta-history1.xml-p000009358p000010000.bz2'\n",
    "locationfile = 'https://dumps.wikimedia.org/enwiki/20151201/enwiki-20151201-pages-meta-history1.xml-p000009358p000010000.bz2'\n",
    "\n",
    "bigfile = '\\\\'+ onebigfile\n",
    "f =  os.path.dirname(os.path.abspath(\"__file__\")) + bigfile\n",
    "\n",
    "print f"
   ]
  },
  {
   "cell_type": "markdown",
   "metadata": {
    "slideshow": {
     "slide_type": "subslide"
    }
   },
   "source": [
    "## Schema\n",
    "```\n",
    "<page>\n",
    "    <title>AccessibleComputing</title>\n",
    "    <ns>0</ns>\n",
    "    <id>10</id>\n",
    "    <redirect title=\"Computer accessibility\" />\n",
    "    <revision>\n",
    "      <id>233192</id>\n",
    "      <timestamp>2001-01-21T02:12:21Z</timestamp>\n",
    "      <contributor>\n",
    "        <username>RoseParks</username>\n",
    "        <id>99</id>\n",
    "      </contributor>\n",
    "      <comment>*</comment>\n",
    "      <model>wikitext</model>\n",
    "      <format>text/x-wiki</format>\n",
    "      <text xml:space=\"preserve\">This subject</text>\n",
    "      <sha1>8kul9tlwjm9oxgvqzbwuegt9b2830vw</sha1>\n",
    "    </revision>\n",
    "    <revision>\n",
    "      <id>862220</id>\n",
    "      <parentid>233192</parentid>\n",
    "      <timestamp>2002-02-25T15:43:11Z</timestamp>\n",
    "      <contributor>\n",
    "        <username>Conversion script</username>\n",
    "        <id>0</id>\n",
    "      </contributor>\n",
    "      <minor />\n",
    "      <comment>Automated conversion</comment>\n",
    "      <model>wikitext</model>\n",
    "      <format>text/x-wiki</format>\n",
    "      <text xml:space=\"preserve\">#REDIRECT [[Accessible Computing]]\n",
    "</text>\n",
    "      <sha1>i8pwco22fwt12yp12x29wc065ded2bh</sha1>\n",
    "    </revision>\n",
    "```"
   ]
  },
  {
   "cell_type": "code",
   "execution_count": 2,
   "metadata": {
    "collapsed": false,
    "slideshow": {
     "slide_type": "subslide"
    }
   },
   "outputs": [
    {
     "name": "stdout",
     "output_type": "stream",
     "text": [
      "100 100\n",
      "200 200\n",
      "300 300\n",
      "400 400\n",
      "File parsed. Total of  499  pages editted and parsed.\n",
      "1GB .bz2 file with complete page edit history took:\n",
      "12.4786047895  minutes\n"
     ]
    }
   ],
   "source": [
    "start = timeit.default_timer()\n",
    "\n",
    "numberEdit=defaultdict(int)\n",
    "numberPages = defaultdict(set)\n",
    "pageIDs = []\n",
    "\n",
    "with BZ2File(f) as xml_file:\n",
    "\n",
    "    context = etree.iterparse(xml_file,  tag= '{http://www.mediawiki.org/xml/export-0.10/}page')\n",
    "\n",
    "    c=0\n",
    "    p=0\n",
    "    for _, elem in context:\n",
    "        page_id = int(elem.findtext('{http://www.mediawiki.org/xml/export-0.10/}id')) \n",
    "        p+=1\n",
    "        pageIDs.append(page_id)\n",
    "        tag = '{http://www.mediawiki.org/xml/export-0.10/}revision/{http://www.mediawiki.org/xml/export-0.10/}contributor'\n",
    "        contribs=elem.findall(tag)\n",
    "        tagid = '{http://www.mediawiki.org/xml/export-0.10/}id'\n",
    "        editorIDs=[cc.findtext(tagid) for cc in contribs if cc.findtext(tagid) is not None]    \n",
    "        for editor in editorIDs:\n",
    "            numberEdit[editor] += 1\n",
    "            numberPages[editor] |= {page_id}\n",
    "\n",
    "        c+=1\n",
    "        elem.clear()\n",
    "        for ancestor in elem.xpath('ancestor-or-self::*'):\n",
    "            while ancestor.getprevious() is not None:\n",
    "                del ancestor.getparent()[0]    \n",
    "        \n",
    "        if c% 10**2==0:\n",
    "            print c, p\n",
    "    del context  \n",
    "    \n",
    "print 'File parsed. Total of ', c, ' pages editted and parsed.'\n",
    "stop = timeit.default_timer()\n",
    "print '1GB .bz2 file with complete page edit history took:'\n",
    "print (stop - start) / 60, ' minutes'"
   ]
  },
  {
   "cell_type": "markdown",
   "metadata": {
    "collapsed": false,
    "slideshow": {
     "slide_type": "slide"
    }
   },
   "source": [
    "## Wat doen we met de data?\n",
    "* Eerst naar DataFrame\n",
    "* Vervolgens wat gegevens checken\n",
    "* Dan een aantal plots maken\n",
    "* Tenslotte een netwerk graaf maken"
   ]
  },
  {
   "cell_type": "markdown",
   "metadata": {
    "slideshow": {
     "slide_type": "slide"
    }
   },
   "source": [
    "## Eerst naar DataFrame"
   ]
  },
  {
   "cell_type": "code",
   "execution_count": 3,
   "metadata": {
    "collapsed": false,
    "slideshow": {
     "slide_type": "fragment"
    }
   },
   "outputs": [
    {
     "name": "stdout",
     "output_type": "stream",
     "text": [
      "Dataframe of necassary information\n"
     ]
    },
    {
     "data": {
      "text/html": [
       "<div>\n",
       "<table border=\"1\" class=\"dataframe\">\n",
       "  <thead>\n",
       "    <tr style=\"text-align: right;\">\n",
       "      <th></th>\n",
       "      <th>User ID</th>\n",
       "      <th>Number of edits</th>\n",
       "      <th>Pages editted</th>\n",
       "      <th>Number of pages editted</th>\n",
       "    </tr>\n",
       "  </thead>\n",
       "  <tbody>\n",
       "    <tr>\n",
       "      <th>0</th>\n",
       "      <td>17866318</td>\n",
       "      <td>1</td>\n",
       "      <td>[9534]</td>\n",
       "      <td>1</td>\n",
       "    </tr>\n",
       "    <tr>\n",
       "      <th>1</th>\n",
       "      <td>240060</td>\n",
       "      <td>1</td>\n",
       "      <td>[9731]</td>\n",
       "      <td>1</td>\n",
       "    </tr>\n",
       "    <tr>\n",
       "      <th>2</th>\n",
       "      <td>1983992</td>\n",
       "      <td>1</td>\n",
       "      <td>[9995]</td>\n",
       "      <td>1</td>\n",
       "    </tr>\n",
       "    <tr>\n",
       "      <th>3</th>\n",
       "      <td>89372</td>\n",
       "      <td>3</td>\n",
       "      <td>[9634, 9979]</td>\n",
       "      <td>2</td>\n",
       "    </tr>\n",
       "    <tr>\n",
       "      <th>4</th>\n",
       "      <td>3480985</td>\n",
       "      <td>1</td>\n",
       "      <td>[9587]</td>\n",
       "      <td>1</td>\n",
       "    </tr>\n",
       "    <tr>\n",
       "      <th>5</th>\n",
       "      <td>741864</td>\n",
       "      <td>4</td>\n",
       "      <td>[9931, 9902, 9455]</td>\n",
       "      <td>3</td>\n",
       "    </tr>\n",
       "    <tr>\n",
       "      <th>6</th>\n",
       "      <td>4043681</td>\n",
       "      <td>1</td>\n",
       "      <td>[9566]</td>\n",
       "      <td>1</td>\n",
       "    </tr>\n",
       "    <tr>\n",
       "      <th>7</th>\n",
       "      <td>15548685</td>\n",
       "      <td>1</td>\n",
       "      <td>[9508]</td>\n",
       "      <td>1</td>\n",
       "    </tr>\n",
       "    <tr>\n",
       "      <th>8</th>\n",
       "      <td>2986555</td>\n",
       "      <td>1</td>\n",
       "      <td>[9472]</td>\n",
       "      <td>1</td>\n",
       "    </tr>\n",
       "    <tr>\n",
       "      <th>9</th>\n",
       "      <td>460061</td>\n",
       "      <td>1</td>\n",
       "      <td>[9611]</td>\n",
       "      <td>1</td>\n",
       "    </tr>\n",
       "  </tbody>\n",
       "</table>\n",
       "</div>"
      ],
      "text/plain": [
       "    User ID  Number of edits       Pages editted  Number of pages editted\n",
       "0  17866318                1              [9534]                        1\n",
       "1    240060                1              [9731]                        1\n",
       "2   1983992                1              [9995]                        1\n",
       "3     89372                3        [9634, 9979]                        2\n",
       "4   3480985                1              [9587]                        1\n",
       "5    741864                4  [9931, 9902, 9455]                        3\n",
       "6   4043681                1              [9566]                        1\n",
       "7  15548685                1              [9508]                        1\n",
       "8   2986555                1              [9472]                        1\n",
       "9    460061                1              [9611]                        1"
      ]
     },
     "execution_count": 3,
     "metadata": {},
     "output_type": "execute_result"
    }
   ],
   "source": [
    "print 'Dataframe of necassary information'\n",
    "df = pd.DataFrame(numberEdit.items(), columns=['User ID', 'Number of edits'])\n",
    "\n",
    "lenNumberPages = {k: len(numberPages[k]) for k in numberPages.keys()}\n",
    "\n",
    "numberPages = {k:list(numberPages[k]) for k in numberPages.keys()}\n",
    "\n",
    "df['Pages editted'] = df['User ID'].map(numberPages)\n",
    "df['Number of pages editted'] = df['User ID'].map(lenNumberPages)\n",
    "df.head(10)\n"
   ]
  },
  {
   "cell_type": "markdown",
   "metadata": {
    "slideshow": {
     "slide_type": "slide"
    }
   },
   "source": [
    "## Vervolgens wat gegevens checken"
   ]
  },
  {
   "cell_type": "code",
   "execution_count": 4,
   "metadata": {
    "collapsed": false,
    "slideshow": {
     "slide_type": "fragment"
    }
   },
   "outputs": [
    {
     "name": "stdout",
     "output_type": "stream",
     "text": [
      "Total amount of edits:\n",
      "321279\n",
      "User ID with most edits:\n",
      "13286072\n",
      "He made 4289\n",
      "Mean and median of number of edits per user: \n",
      "Mean:  6.56931664826\n",
      "Median:  1.0\n",
      "\n",
      "Mean and median of number of pages editted per user: \n",
      "Mean:  2.41874207664\n",
      "Median:  1.0\n"
     ]
    }
   ],
   "source": [
    "print 'Total amount of edits:'\n",
    "print df['Number of edits'].sum()\n",
    "print 'User ID with most edits:'\n",
    "print df.loc[df['Number of edits'].argmax()]['User ID']\n",
    "print 'He made' , df.loc[df['Number of edits'].argmax()]['Number of edits']\n",
    "\n",
    "print 'Mean and median of number of edits per user: '\n",
    "print 'Mean: ',df['Number of edits'].mean()\n",
    "print 'Median: ',df['Number of edits'].median()\n",
    "\n",
    "print '\\nMean and median of number of pages editted per user: '\n",
    "print 'Mean: ',df['Number of pages editted'].mean()\n",
    "print 'Median: ',df['Number of pages editted'].median()"
   ]
  },
  {
   "cell_type": "markdown",
   "metadata": {
    "slideshow": {
     "slide_type": "subslide"
    }
   },
   "source": [
    "<img src='http://i.imgur.com/ElHwztc.png' />"
   ]
  },
  {
   "cell_type": "markdown",
   "metadata": {
    "slideshow": {
     "slide_type": "slide"
    }
   },
   "source": [
    "## Dan een aantal plots"
   ]
  },
  {
   "cell_type": "code",
   "execution_count": 5,
   "metadata": {
    "collapsed": false,
    "slideshow": {
     "slide_type": "fragment"
    }
   },
   "outputs": [
    {
     "data": {
      "text/plain": [
       "<matplotlib.text.Text at 0xb6c7438>"
      ]
     },
     "execution_count": 5,
     "metadata": {},
     "output_type": "execute_result"
    },
    {
     "data": {
      "image/png": "[encoded data removed]",
      "text/plain": [
       "<matplotlib.figure.Figure at 0x411eb70>"
      ]
     },
     "metadata": {},
     "output_type": "display_data"
    }
   ],
   "source": [
    "plot1 = df.groupby('Number of edits').count()['Number of pages editted'].to_dict()\n",
    "x = plot1.values()\n",
    "y = plot1.keys()\n",
    "fig = plt.figure()\n",
    "ax = plt.gca()\n",
    "ax.scatter(x,y)\n",
    "ax.set_yscale('log')\n",
    "ax.set_xscale('log')\n",
    "plt.ylabel('Number of edits')\n",
    "plt.xlabel('Number of users')\n"
   ]
  },
  {
   "cell_type": "code",
   "execution_count": 6,
   "metadata": {
    "collapsed": false,
    "slideshow": {
     "slide_type": "fragment"
    }
   },
   "outputs": [
    {
     "data": {
      "text/plain": [
       "<matplotlib.text.Text at 0x359cd048>"
      ]
     },
     "execution_count": 6,
     "metadata": {},
     "output_type": "execute_result"
    },
    {
     "data": {
      "image/png": "[encoded data removed]",
      "text/plain": [
       "<matplotlib.figure.Figure at 0x46299c50>"
      ]
     },
     "metadata": {},
     "output_type": "display_data"
    }
   ],
   "source": [
    "plot2 = df.groupby('Number of pages editted').count()['Number of edits'].to_dict()\n",
    "x = plot2.values()\n",
    "y = plot2.keys()\n",
    "fig = plt.figure()\n",
    "ax = plt.gca()\n",
    "ax.scatter(x,y)\n",
    "ax.set_yscale('log')\n",
    "ax.set_xscale('log')\n",
    "plt.ylabel('Number of pages')\n",
    "plt.xlabel('Number of users')\n"
   ]
  },
  {
   "cell_type": "markdown",
   "metadata": {
    "slideshow": {
     "slide_type": "slide"
    }
   },
   "source": [
    "## Tenslotte een graaf (work in progress)"
   ]
  },
  {
   "cell_type": "code",
   "execution_count": null,
   "metadata": {
    "collapsed": true,
    "slideshow": {
     "slide_type": "fragment"
    }
   },
   "outputs": [],
   "source": [
    "listOfUsers = df['User ID'].tolist()\n",
    "K = nx.Graph()\n",
    "K.add_nodes_from(listOfUsers)\n",
    "print pageIDs\n",
    "c = 0\n",
    "for page in pageIDs:\n",
    "    users = [k for k in numberPages.keys() if page in numberPages[k]]\n",
    "    for u, v in itertools.combinations(users, 2):\n",
    "        c += 1\n",
    "        K.add_edge(u,v)\n",
    "\n",
    "print c"
   ]
  },
  {
   "cell_type": "markdown",
   "metadata": {
    "slideshow": {
     "slide_type": "fragment"
    }
   },
   "source": [
    "<img src='http://i.imgur.com/47EDI7b.png' />"
   ]
  }
 ],
 "metadata": {
  "celltoolbar": "Slideshow",
  "kernelspec": {
   "display_name": "Python 2",
   "language": "python",
   "name": "python2"
  },
  "language_info": {
   "codemirror_mode": {
    "name": "ipython",
    "version": 2
   },
   "file_extension": ".py",
   "mimetype": "text/x-python",
   "name": "python",
   "nbconvert_exporter": "python",
   "pygments_lexer": "ipython2",
   "version": "2.7.10"
  }
 },
 "nbformat": 4,
 "nbformat_minor": 0
}
