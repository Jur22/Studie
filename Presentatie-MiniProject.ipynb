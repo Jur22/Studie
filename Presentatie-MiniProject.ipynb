{
 "cells": [
  {
   "cell_type": "markdown",
   "metadata": {
    "slideshow": {
     "slide_type": "slide"
    }
   },
   "source": [
    "# Sentiment analyse uitspraken politici\n",
    "\n",
    "## Jurian van Zanten & Fleur Koentjes\n",
    "\n",
    "### 10523022 & 10586989\n",
    "### jurianvanzanten@gmail.com & fleurkoentjes@gmail.com"
   ]
  },
  {
   "cell_type": "markdown",
   "metadata": {
    "slideshow": {
     "slide_type": "slide"
    }
   },
   "source": [
    "# Inhoudsopgave\n",
    "1. Probleemstelling en onderzoeksvraag\n",
    "2. Gerelateerd werk en relevantie\n",
    "3. Methode\n",
    "4. Visualisatie\n",
    "5. Uikomsten\n",
    "6. Discussie en vervolg onderzoek\n",
    "7. Conclusie"
   ]
  },
  {
   "cell_type": "markdown",
   "metadata": {
    "slideshow": {
     "slide_type": "slide"
    }
   },
   "source": [
    "# Probleemstelling en onderzoeksvraag"
   ]
  },
  {
   "cell_type": "markdown",
   "metadata": {
    "slideshow": {
     "slide_type": "slide"
    }
   },
   "source": [
    "## Wat is het sentiment van verschillende partijleden tegenover de verschillende debatonderwerpen in het kabinet Rutte ll\n",
    "- Kiezen is moeilijk\n",
    "- 40% van de kiezer zweeft\n",
    "- mogelijkheden met de dataset"
   ]
  },
  {
   "cell_type": "markdown",
   "metadata": {
    "slideshow": {
     "slide_type": "slide"
    }
   },
   "source": [
    "# Gerelateerd werk en relevantie"
   ]
  },
  {
   "cell_type": "markdown",
   "metadata": {
    "slideshow": {
     "slide_type": "fragment"
    }
   },
   "source": [
    "- Onderzoek naar sentiment \n",
    "- Pattern.nl module met sentiment(polariteit, subjectiviteit)\n",
    "- Subjectiviteit heeft veel invloed \n",
    "- Veel toegepast op data van Twitter "
   ]
  },
  {
   "cell_type": "markdown",
   "metadata": {
    "slideshow": {
     "slide_type": "slide"
    }
   },
   "source": [
    "# Methode\n"
   ]
  },
  {
   "cell_type": "markdown",
   "metadata": {
    "slideshow": {
     "slide_type": "fragment"
    }
   },
   "source": [
    "- Aangeleverde dataset \n",
    "- Handelingen van de Tweede Kamer Rutte ll\n",
    "- XML formaat\n",
    "- Data selectie proces"
   ]
  },
  {
   "cell_type": "code",
   "execution_count": null,
   "metadata": {
    "collapsed": true,
    "slideshow": {
     "slide_type": "slide"
    }
   },
   "outputs": [],
   "source": [
    "#Filteren van stopwoordjes\n",
    "stopset = (set(stopwords.words('dutch')) - set(('geen', 'eens', 'bij', 'doen', 'heeft', 'ja', 'maar', 'meer', \n",
    "                                                'moet', 'niet', 'niets', 'tegen', 'toch', 'veel', 'voor', 'zonder')))"
   ]
  },
  {
   "cell_type": "markdown",
   "metadata": {
    "slideshow": {
     "slide_type": "slide"
    }
   },
   "source": [
    "# Visualisatie"
   ]
  },
  {
   "cell_type": "markdown",
   "metadata": {
    "slideshow": {
     "slide_type": "slide"
    }
   },
   "source": [
    "<img src=\"https://www.mupload.nl/img/oyeonhenwswpj.png\">"
   ]
  },
  {
   "cell_type": "markdown",
   "metadata": {
    "slideshow": {
     "slide_type": "slide"
    }
   },
   "source": [
    "<img src=\"https://www.mupload.nl/img/j0bb6ryfbjt1y.png\">"
   ]
  },
  {
   "cell_type": "markdown",
   "metadata": {
    "slideshow": {
     "slide_type": "slide"
    }
   },
   "source": [
    "# Uikomsten"
   ]
  },
  {
   "cell_type": "markdown",
   "metadata": {
    "slideshow": {
     "slide_type": "fragment"
    }
   },
   "source": [
    "<img src='https://www.mupload.nl/img/mk3dxspedpixn.png'>"
   ]
  },
  {
   "cell_type": "markdown",
   "metadata": {},
   "source": [
    "<img src='https://www.mupload.nl/img/rillavdmesxlp.png'>"
   ]
  },
  {
   "cell_type": "markdown",
   "metadata": {
    "slideshow": {
     "slide_type": "slide"
    }
   },
   "source": [
    "# Discussie en vervolg onderzoek"
   ]
  },
  {
   "cell_type": "markdown",
   "metadata": {
    "slideshow": {
     "slide_type": "fragment"
    }
   },
   "source": [
    "- Hele onderwerp \n",
    "- Relevantere dataset sentiment functie \n",
    "- Veel verschillende mogelijkheden met de data "
   ]
  },
  {
   "cell_type": "markdown",
   "metadata": {
    "slideshow": {
     "slide_type": "slide"
    }
   },
   "source": [
    "# Conclusie"
   ]
  },
  {
   "cell_type": "markdown",
   "metadata": {
    "slideshow": {
     "slide_type": "fragment"
    }
   },
   "source": [
    "- Kamerleden zijn subjectief \n",
    "- Verschillen in polariteit naar verwachting \n",
    "- Programma werkt "
   ]
  },
  {
   "cell_type": "code",
   "execution_count": null,
   "metadata": {
    "collapsed": false,
    "slideshow": {
     "slide_type": "skip"
    }
   },
   "outputs": [],
   "source": [
    "!ipython nbconvert --post serve --to slides --reveal-prefix \"http://maartenmarx.nl/reveal.js\" NameOfYourSlideShow.ipynb"
   ]
  }
 ],
 "metadata": {
  "celltoolbar": "Slideshow",
  "kernelspec": {
   "display_name": "Python 2",
   "language": "python",
   "name": "python2"
  },
  "language_info": {
   "codemirror_mode": {
    "name": "ipython",
    "version": 2
   },
   "file_extension": ".py",
   "mimetype": "text/x-python",
   "name": "python",
   "nbconvert_exporter": "python",
   "pygments_lexer": "ipython2",
   "version": "2.7.13"
  }
 },
 "nbformat": 4,
 "nbformat_minor": 2
}
