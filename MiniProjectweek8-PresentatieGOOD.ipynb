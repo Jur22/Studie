{
 "cells": [
  {
   "cell_type": "markdown",
   "metadata": {
    "slideshow": {
     "slide_type": "slide"
    }
   },
   "source": [
    "# Wat is het sentiment van verschillende debat onderwerpen?\n",
    "\n",
    "#### Door: Siyen Bindels en Chala Westerman"
   ]
  },
  {
   "cell_type": "markdown",
   "metadata": {
    "slideshow": {
     "slide_type": "slide"
    }
   },
   "source": [
    "## Introductie\n",
    "\n",
    "- 15 maart 2017 Verkiezingsdag\n",
    "- media aandacht\n",
    "- H. Garretsen en J. Stoker (2017), RUG\n",
    "- positief sentiment: partij programma's & televisie debat\n",
    "- Henk Krol en Mark Rutte wedijveren om de titel ‘positivo’"
   ]
  },
  {
   "cell_type": "markdown",
   "metadata": {
    "slideshow": {
     "slide_type": "slide"
    }
   },
   "source": [
    "- positief sentiment\n",
    "- 'kleur van woorden' (TAALwinkel)\n",
    "\n",
    "\n",
    "#### positief, negatief of neutraal:\n",
    "\n",
    "\n",
    "-    vrijheidsstrijder / terrorist\n",
    "-    informatie / propaganda\n",
    "-    zorgvuldig / pietluttig\n",
    "\n",
    "\n",
    "- polariteit, valentie, kleurtoon (Wilson, et al., 2015)"
   ]
  },
  {
   "cell_type": "markdown",
   "metadata": {
    "slideshow": {
     "slide_type": "slide"
    }
   },
   "source": [
    "- sentiment analyse\n",
    "- Linquistic Incuiry and Word Count (LIWC), Pennebaker, 2001\n",
    "- Nederlandse versie, 2004\n",
    "- Wat is het belang?"
   ]
  },
  {
   "cell_type": "markdown",
   "metadata": {
    "slideshow": {
     "slide_type": "slide"
    }
   },
   "source": [
    "### H. Garretsen en J. Stoker (2017), RUG\n",
    "<img src='http://www.mejudice.nl/images/default-source/figuren/figuur-1-het-politieke-sentiment-gemeten-in-verkiezingsprogrammas-voor-2e-kamer-verkiezingen-2017.png'/>"
   ]
  },
  {
   "cell_type": "markdown",
   "metadata": {
    "slideshow": {
     "slide_type": "slide"
    }
   },
   "source": [
    "### In hoeverre is verschilt de polariteit per onderwerp in een debat in de Tweede Kamer van 2012 tot 2013?"
   ]
  },
  {
   "cell_type": "markdown",
   "metadata": {
    "slideshow": {
     "slide_type": "slide"
    }
   },
   "source": [
    "# Methodologie\n",
    "\n",
    "### Data\n",
    "- Handelingen van de Tweede Kamer in XML formaat.\n",
    "- Je kunt die bekijken op <a href='http://overheid.nl'>overheid.nl</a>. "
   ]
  },
  {
   "cell_type": "markdown",
   "metadata": {
    "slideshow": {
     "slide_type": "subslide"
    }
   },
   "source": [
    "## Data voor de opdracht\n",
    "\n",
    "<http://maartenmarx.nl/teaching/DataScience/Data/WildersXMLassignment>\n",
    "\n",
    "We hebben één dataframe gemaakt waarin alle informatie te halen is. De dataframe bevat de volgende kolommen:\n",
    "\n",
    "- Datum: datum\n",
    "- Spreker: achternaam van degene die spreekt\n",
    "- Tekst: tekst\n",
    "- Rol: voorvoegsels van de spreker\n",
    "- Interruptors: personen die tijdens het debat interrumperen\n",
    "- OnderwerpDebat: titel van de tekst\n",
    "- Positief: percentage positieve woorden in de tekst\n",
    "- Negatief: percentage negatieve woorden in de tekst\n",
    "- URL: de url van de pagina\n",
    "\n",
    "\n",
    "Uit de map Wilders2014 hebben we alle XML files gehaald. Door  "
   ]
  },
  {
   "cell_type": "markdown",
   "metadata": {
    "slideshow": {
     "slide_type": "slide"
    }
   },
   "source": [
    "# Het onderzoek\n",
    "\n",
    "## Sentiment Analyse \n",
    "\n",
    "- Sentiment van de onderwerpen van een debat\n",
    "- Categorieen: Positief, Negatief en Neutraal\n",
    "- Alle bruikbare data uit de xml files gehaald\n",
    "- Tekst gesplit en alleen de syntax overgehouden\n",
    "- Naive Bayes Classifier -> SECUUR\n",
    "- Vooraf opgestelde lijst met woorden"
   ]
  },
  {
   "cell_type": "markdown",
   "metadata": {
    "slideshow": {
     "slide_type": "slide"
    }
   },
   "source": [
    "<img src='http://imgh.us/Presentatie.png'/>"
   ]
  },
  {
   "cell_type": "markdown",
   "metadata": {
    "collapsed": false,
    "slideshow": {
     "slide_type": "subslide"
    }
   },
   "source": [
    "<img src='http://imgh.us/Presentatie2.png'/> "
   ]
  },
  {
   "cell_type": "markdown",
   "metadata": {
    "slideshow": {
     "slide_type": "slide"
    }
   },
   "source": [
    "# Evaluation\n",
    "\n",
    "- sentiment analyse berekening kunnen doen, verbetering --> vooraf gedefinieerde woorden\n",
    "- sentiment analyse vergelijking doen met het sentiment hoe die door de media naar buiten wordt gebracht\n",
    "- bigrams maken "
   ]
  },
  {
   "cell_type": "markdown",
   "metadata": {
    "slideshow": {
     "slide_type": "subslide"
    }
   },
   "source": [
    "<img src='http://imgh.us/Presentatie3.png'/>"
   ]
  },
  {
   "cell_type": "markdown",
   "metadata": {
    "collapsed": true,
    "slideshow": {
     "slide_type": "slide"
    }
   },
   "source": [
    "# Conclusion\n",
    "\n",
    "- Data nog niet kunnen vergelijken met elkaar\n",
    "\n",
    "- Bigrams filteren \n",
    "\n",
    "- Vergelijken met de artikelen uit de media"
   ]
  }
 ],
 "metadata": {
  "celltoolbar": "Slideshow",
  "kernelspec": {
   "display_name": "Python 3",
   "language": "python",
   "name": "python3"
  },
  "language_info": {
   "codemirror_mode": {
    "name": "ipython",
    "version": 3
   },
   "file_extension": ".py",
   "mimetype": "text/x-python",
   "name": "python",
   "nbconvert_exporter": "python",
   "pygments_lexer": "ipython3",
   "version": "3.6.0"
  }
 },
 "nbformat": 4,
 "nbformat_minor": 2
}
